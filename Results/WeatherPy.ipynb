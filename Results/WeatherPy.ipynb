{
 "cells": [
  {
   "cell_type": "markdown",
   "metadata": {},
   "source": [
    "# WeatherPy\n",
    "----\n",
    "\n",
    "#### Note\n",
    "* Instructions have been included for each segment. You do not have to follow them exactly, but they are included to help you think through the steps."
   ]
  },
  {
   "cell_type": "code",
   "execution_count": 1,
   "metadata": {
    "scrolled": true
   },
   "outputs": [],
   "source": [
    "#Set up dependencies and API key\n",
    "\n",
    "from api_keys import weather_api_key\n",
    "import gmaps\n",
    "import numpy as np\n",
    "import pandas as pd\n",
    "import requests\n",
    "import time\n",
    "from scipy.stats import linregress\n",
    "from matplotlib import pyplot as plt\n",
    "from citipy import citipy\n",
    "import json\n",
    "\n",
    "#Range of latitude and longitude\n",
    "lat_range = (-90, 90)\n",
    "lng_range = (-180, 180)"
   ]
  },
  {
   "cell_type": "code",
   "execution_count": 2,
   "metadata": {},
   "outputs": [
    {
     "data": {
      "text/plain": [
       "620"
      ]
     },
     "execution_count": 2,
     "metadata": {},
     "output_type": "execute_result"
    }
   ],
   "source": [
    "#Set the empty lists for cities, latitude, longitude \n",
    "\n",
    "cities = []\n",
    "lat_lng = []\n",
    "\n",
    "#Create the list by creating a set of random lat and lng combos\n",
    "lat = np.random.uniform(low=-90.00, high=90.00, size=1500)\n",
    "lng = np.random.uniform(low=-180.00, high=180.00, size=1500)\n",
    "lat_lng = zip(lat, lng)\n",
    "\n",
    "#Find nearest city for each lat, lng combination\n",
    "for lat_lng in lat_lng:\n",
    "    city = citipy.nearest_city(lat_lng[0], lat_lng[1]).city_name\n",
    "    \n",
    "    #Add new city names, and skip if already in the list \n",
    "    if city not in cities:\n",
    "        cities.append(city)\n",
    "\n",
    "#Print the city count\n",
    "len(cities)"
   ]
  },
  {
   "cell_type": "code",
   "execution_count": 3,
   "metadata": {},
   "outputs": [
    {
     "data": {
      "text/plain": [
       "'http://api.openweathermap.org/data/2.5/forecast?id=524901&APPID=23145c4e4a37ab5ef7e695eeec4fc44c'"
      ]
     },
     "execution_count": 3,
     "metadata": {},
     "output_type": "execute_result"
    }
   ],
   "source": [
    "#Make your API call\n",
    "\n",
    "url = \"http://api.openweathermap.org/data/2.5/forecast?id=524901&APPID=\"\n",
    "target_url = url + weather_api_key\n",
    "target_url"
   ]
  },
  {
   "cell_type": "code",
   "execution_count": 4,
   "metadata": {},
   "outputs": [
    {
     "name": "stdout",
     "output_type": "stream",
     "text": [
      "Processing record 1 of Set 1 | tasiilaq\n",
      "Processing record 2 of Set 1 | yokadouma\n",
      "Processing record 3 of Set 1 | albany\n",
      "Processing record 4 of Set 1 | bluff\n",
      "Processing record 5 of Set 1 | kysyl-syr\n",
      "Processing record 6 of Set 1 | homer\n",
      "Processing record 7 of Set 1 | fuerte olimpo\n",
      "Processing record 8 of Set 1 | muyezerskiy\n",
      "Processing record 9 of Set 1 | puerto ayora\n",
      "Processing record 10 of Set 1 | ushuaia\n",
      "Processing record 11 of Set 1 | hoshcha\n",
      "Processing record 12 of Set 1 | north bend\n",
      "Processing record 13 of Set 1 | rikitea\n",
      "Processing record 14 of Set 1 | butaritari\n",
      "Processing record 15 of Set 1 | norden\n",
      "Processing record 16 of Set 1 | lebu\n",
      "Processing record 17 of Set 1 | busselton\n",
      "Processing record 18 of Set 1 | norman wells\n",
      "Processing record 19 of Set 1 | mataura\n",
      "Processing record 20 of Set 1 | hami\n",
      "Processing record 21 of Set 1 | cape town\n",
      "Processing record 22 of Set 1 | atuona\n",
      "Processing record 23 of Set 1 | christiana\n",
      "Processing record 24 of Set 1 | kapaa\n",
      "Processing record 25 of Set 1 | colgong\n",
      "Processing record 26 of Set 1 | salinopolis\n",
      "Processing record 27 of Set 1 | san cristobal\n",
      "Processing record 28 of Set 1 | arraial do cabo\n",
      "Processing record 29 of Set 1 | palu\n",
      "Processing record 30 of Set 1 | hilo\n",
      "No Record Found\n",
      "Processing record 31 of Set 1 | los llanos de aridane\n",
      "Processing record 32 of Set 1 | airai\n",
      "Processing record 33 of Set 1 | sivas\n",
      "Processing record 34 of Set 1 | mar del plata\n",
      "Processing record 35 of Set 1 | coquimbo\n",
      "Processing record 36 of Set 1 | sinnamary\n",
      "Processing record 37 of Set 1 | port hardy\n",
      "Processing record 38 of Set 1 | rocha\n",
      "Processing record 39 of Set 1 | dikson\n",
      "Processing record 40 of Set 1 | gat\n",
      "Processing record 41 of Set 1 | bengkulu\n",
      "Processing record 42 of Set 1 | gemunden\n",
      "Processing record 43 of Set 1 | hualmay\n",
      "Processing record 44 of Set 1 | nome\n",
      "Processing record 45 of Set 1 | yar-sale\n",
      "Processing record 46 of Set 1 | vila velha\n",
      "Processing record 47 of Set 1 | hobart\n",
      "Processing record 48 of Set 1 | aklavik\n",
      "Processing record 49 of Set 1 | ilulissat\n",
      "Processing record 50 of Set 1 | georgetown\n",
      "Processing record 51 of Set 1 | avarua\n",
      "Processing record 52 of Set 1 | umm kaddadah\n",
      "Processing record 53 of Set 1 | polyarnyy\n",
      "Processing record 54 of Set 1 | castro\n",
      "Processing record 55 of Set 1 | bang saphan\n",
      "Processing record 56 of Set 1 | vaini\n",
      "Processing record 57 of Set 1 | bathsheba\n",
      "Processing record 58 of Set 1 | kloulklubed\n",
      "Processing record 59 of Set 1 | saint george\n",
      "No Record Found\n",
      "Processing record 60 of Set 1 | kupang\n",
      "No Record Found\n",
      "Processing record 61 of Set 1 | bom jesus do galho\n",
      "Processing record 62 of Set 1 | ternate\n",
      "Processing record 63 of Set 1 | geraldton\n",
      "Processing record 64 of Set 1 | northam\n",
      "Processing record 65 of Set 1 | sao filipe\n",
      "Processing record 66 of Set 1 | port elizabeth\n",
      "Processing record 67 of Set 1 | antofagasta\n",
      "Processing record 68 of Set 1 | clyde river\n",
      "Processing record 69 of Set 1 | iquitos\n",
      "Processing record 70 of Set 1 | coralville\n",
      "Processing record 71 of Set 1 | vilhena\n",
      "Processing record 72 of Set 1 | narsaq\n",
      "Processing record 73 of Set 1 | tezu\n",
      "Processing record 74 of Set 1 | peterongan\n",
      "Processing record 75 of Set 1 | saint-pierre\n",
      "Processing record 76 of Set 1 | xiuyan\n",
      "Processing record 77 of Set 1 | tamworth\n",
      "Processing record 78 of Set 1 | san quintin\n",
      "Processing record 79 of Set 1 | mastung\n",
      "Processing record 80 of Set 1 | upernavik\n",
      "Processing record 81 of Set 1 | cockburn town\n",
      "Processing record 82 of Set 1 | pachino\n",
      "Processing record 83 of Set 1 | moranbah\n",
      "Processing record 84 of Set 1 | hithadhoo\n",
      "Processing record 85 of Set 1 | qaanaaq\n",
      "No Record Found\n",
      "Processing record 86 of Set 1 | jega\n",
      "Processing record 87 of Set 1 | iqaluit\n",
      "No Record Found\n",
      "Processing record 88 of Set 1 | cidreira\n",
      "Processing record 89 of Set 1 | henties bay\n",
      "Processing record 90 of Set 1 | valley station\n",
      "Processing record 91 of Set 1 | la rioja\n",
      "Processing record 92 of Set 1 | riyadh\n",
      "Processing record 93 of Set 1 | tuatapere\n",
      "Processing record 94 of Set 1 | tahta\n",
      "Processing record 95 of Set 1 | mackenzie\n",
      "Processing record 96 of Set 1 | marang\n",
      "Processing record 97 of Set 1 | hermanus\n",
      "Processing record 98 of Set 1 | mangrol\n",
      "No Record Found\n",
      "Processing record 99 of Set 1 | barrow\n",
      "Processing record 100 of Set 1 | yellowknife\n",
      "No Record Found\n",
      "Processing record 101 of Set 1 | fallon\n",
      "No Record Found\n",
      "Processing record 102 of Set 1 | hamilton\n",
      "Processing record 103 of Set 1 | pevek\n",
      "Processing record 104 of Set 1 | hobyo\n",
      "No Record Found\n",
      "Processing record 105 of Set 1 | gillette\n",
      "Processing record 106 of Set 1 | sangar\n",
      "Processing record 107 of Set 1 | nikolskoye\n",
      "Processing record 108 of Set 1 | port alfred\n",
      "Processing record 109 of Set 1 | lorengau\n",
      "Processing record 110 of Set 1 | paracatu\n",
      "Processing record 111 of Set 1 | khorixas\n",
      "Processing record 112 of Set 1 | saskylakh\n",
      "Processing record 113 of Set 1 | ostrovnoy\n",
      "Processing record 114 of Set 1 | tuktoyaktuk\n",
      "Processing record 115 of Set 1 | talnakh\n",
      "Processing record 116 of Set 1 | chaupal\n",
      "Processing record 117 of Set 1 | codrington\n",
      "Processing record 118 of Set 1 | jamestown\n",
      "Processing record 119 of Set 1 | kaitangata\n",
      "Processing record 120 of Set 1 | kungurtug\n",
      "Processing record 121 of Set 1 | marsh harbour\n",
      "Processing record 122 of Set 1 | dumas\n",
      "Processing record 123 of Set 1 | ben tre\n",
      "Processing record 124 of Set 1 | bilma\n",
      "Processing record 125 of Set 1 | tazovskiy\n",
      "Processing record 126 of Set 1 | avera\n",
      "Processing record 127 of Set 1 | bella vista\n",
      "Processing record 128 of Set 1 | doha\n",
      "Processing record 129 of Set 1 | pacific grove\n",
      "Processing record 130 of Set 1 | kayerkan\n",
      "Processing record 131 of Set 1 | fairbanks\n",
      "Processing record 132 of Set 1 | davila\n",
      "Processing record 133 of Set 1 | nuevo progreso\n",
      "Processing record 134 of Set 1 | victoria\n",
      "Processing record 135 of Set 1 | krasnaya gorka\n",
      "Processing record 136 of Set 1 | khatanga\n",
      "Processing record 137 of Set 1 | dingle\n",
      "Processing record 138 of Set 1 | punta arenas\n",
      "Processing record 139 of Set 1 | provideniya\n",
      "Processing record 140 of Set 1 | taoudenni\n",
      "Processing record 141 of Set 1 | verkhnevilyuysk\n",
      "Processing record 142 of Set 1 | irbit\n",
      "Processing record 143 of Set 1 | sainte-maxime\n",
      "Processing record 144 of Set 1 | morales\n",
      "Processing record 145 of Set 1 | bethel\n",
      "Processing record 146 of Set 1 | putina\n",
      "Processing record 147 of Set 1 | miajadas\n",
      "Processing record 148 of Set 1 | panama city\n",
      "Processing record 149 of Set 1 | gornopravdinsk\n",
      "Processing record 150 of Set 1 | nandgaon\n",
      "Processing record 151 of Set 1 | saint-philippe\n",
      "Processing record 152 of Set 1 | bredasdorp\n",
      "Processing record 153 of Set 1 | east london\n",
      "Processing record 154 of Set 1 | vernon\n",
      "Processing record 155 of Set 1 | saint-ambroise\n",
      "Processing record 156 of Set 1 | umm lajj\n",
      "Processing record 157 of Set 1 | kahului\n",
      "Processing record 158 of Set 1 | bamnet narong\n",
      "Processing record 159 of Set 1 | vostok\n",
      "Processing record 160 of Set 1 | lahat\n",
      "No Record Found\n",
      "Processing record 161 of Set 1 | zamora\n",
      "Processing record 162 of Set 1 | nanortalik\n",
      "Processing record 163 of Set 1 | padang\n",
      "No Record Found\n",
      "Processing record 164 of Set 1 | gurlan\n",
      "Processing record 165 of Set 1 | katsuura\n",
      "Processing record 166 of Set 1 | spasskoye\n",
      "No Record Found\n",
      "Processing record 167 of Set 1 | kruisfontein\n",
      "Processing record 168 of Set 1 | manggar\n",
      "Processing record 169 of Set 1 | bastrop\n",
      "Processing record 170 of Set 1 | rio tercero\n",
      "No Record Found\n",
      "No Record Found\n",
      "No Record Found\n",
      "Processing record 171 of Set 1 | ancud\n",
      "Processing record 172 of Set 1 | mrakovo\n",
      "Processing record 173 of Set 1 | skjervoy\n",
      "No Record Found\n",
      "Processing record 174 of Set 1 | zhigansk\n",
      "Processing record 175 of Set 1 | tiksi\n",
      "Processing record 176 of Set 1 | constantine\n",
      "Processing record 177 of Set 1 | lompoc\n",
      "Processing record 178 of Set 1 | ejido\n",
      "No Record Found\n",
      "Processing record 179 of Set 1 | sitka\n",
      "Processing record 180 of Set 1 | puerto colombia\n",
      "Processing record 181 of Set 1 | college\n",
      "Processing record 182 of Set 1 | arawa\n",
      "Processing record 183 of Set 1 | muros\n",
      "Processing record 184 of Set 1 | kodiak\n",
      "Processing record 185 of Set 1 | hay river\n",
      "Processing record 186 of Set 1 | utinga\n",
      "Processing record 187 of Set 1 | sao luiz gonzaga\n",
      "Processing record 188 of Set 1 | dunedin\n",
      "Processing record 189 of Set 1 | faanui\n",
      "Processing record 190 of Set 1 | ribeira grande\n"
     ]
    },
    {
     "name": "stdout",
     "output_type": "stream",
     "text": [
      "No Record Found\n",
      "Processing record 191 of Set 1 | fort nelson\n",
      "Processing record 192 of Set 1 | maputo\n",
      "No Record Found\n",
      "Processing record 193 of Set 1 | guerrero negro\n",
      "Processing record 194 of Set 1 | tilichiki\n",
      "Processing record 195 of Set 1 | goderich\n",
      "Processing record 196 of Set 1 | puerto quijarro\n",
      "Processing record 197 of Set 1 | coihaique\n",
      "Processing record 198 of Set 1 | arinos\n",
      "Processing record 199 of Set 1 | portland\n",
      "Processing record 200 of Set 1 | palmer\n",
      "Processing record 201 of Set 1 | longyearbyen\n",
      "Processing record 202 of Set 1 | adrar\n",
      "Processing record 203 of Set 1 | torbay\n",
      "Processing record 204 of Set 1 | poum\n",
      "Processing record 205 of Set 1 | maceio\n",
      "Processing record 206 of Set 1 | aripuana\n",
      "Processing record 207 of Set 1 | coihueco\n",
      "Processing record 208 of Set 1 | beauchamps\n",
      "Processing record 209 of Set 1 | honiara\n",
      "No Record Found\n",
      "Processing record 210 of Set 1 | korla\n",
      "No Record Found\n",
      "Processing record 211 of Set 1 | bitung\n",
      "Processing record 212 of Set 1 | saint anthony\n",
      "Processing record 213 of Set 1 | banda aceh\n",
      "Processing record 214 of Set 1 | new norfolk\n",
      "Processing record 215 of Set 1 | loveland\n",
      "Processing record 216 of Set 1 | pisco\n",
      "Processing record 217 of Set 1 | namatanai\n",
      "Processing record 218 of Set 1 | natal\n",
      "Processing record 219 of Set 1 | havre-saint-pierre\n",
      "No Record Found\n",
      "Processing record 220 of Set 1 | palestine\n",
      "Processing record 221 of Set 1 | augusto correa\n",
      "Processing record 222 of Set 1 | chulman\n",
      "Processing record 223 of Set 1 | bac lieu\n",
      "Processing record 224 of Set 1 | pathein\n",
      "Processing record 225 of Set 1 | broome\n",
      "Processing record 226 of Set 1 | verkhniye kigi\n",
      "Processing record 227 of Set 1 | alofi\n",
      "Processing record 228 of Set 1 | vilcun\n",
      "Processing record 229 of Set 1 | san luis rio colorado\n",
      "Processing record 230 of Set 1 | baie-comeau\n",
      "Processing record 231 of Set 1 | huilong\n",
      "Processing record 232 of Set 1 | najran\n",
      "Processing record 233 of Set 1 | beringovskiy\n",
      "Processing record 234 of Set 1 | svobodnyy\n",
      "Processing record 235 of Set 1 | ornskoldsvik\n",
      "Processing record 236 of Set 1 | cherskiy\n",
      "Processing record 237 of Set 1 | gurupi\n",
      "Processing record 238 of Set 1 | laguna\n",
      "Processing record 239 of Set 1 | menongue\n",
      "Processing record 240 of Set 1 | burgos\n",
      "Processing record 241 of Set 1 | lagoa\n",
      "Processing record 242 of Set 1 | esperance\n",
      "No Record Found\n",
      "Processing record 243 of Set 1 | dauphin\n",
      "Processing record 244 of Set 1 | muisne\n",
      "Processing record 245 of Set 1 | lavrentiya\n",
      "Processing record 246 of Set 1 | hasaki\n",
      "No Record Found\n",
      "Processing record 247 of Set 1 | natitingou\n",
      "Processing record 248 of Set 1 | goundam\n",
      "Processing record 249 of Set 1 | blagoveshchenka\n",
      "No Record Found\n",
      "Processing record 250 of Set 1 | rognan\n",
      "Processing record 251 of Set 1 | tessalit\n",
      "Processing record 252 of Set 1 | mahebourg\n",
      "Processing record 253 of Set 1 | puerto madero\n",
      "Processing record 254 of Set 1 | herzberg\n",
      "Processing record 255 of Set 1 | haines junction\n",
      "No Record Found\n",
      "Processing record 256 of Set 1 | ugoofaaru\n",
      "No Record Found\n",
      "No Record Found\n",
      "Processing record 257 of Set 1 | bealanana\n",
      "Processing record 258 of Set 1 | chokurdakh\n",
      "Processing record 259 of Set 1 | wattegama\n",
      "Processing record 260 of Set 1 | yarada\n",
      "Processing record 261 of Set 1 | ngunguru\n",
      "Processing record 262 of Set 1 | te anau\n",
      "Processing record 263 of Set 1 | ingersoll\n",
      "Processing record 264 of Set 1 | ambilobe\n",
      "No Record Found\n",
      "Processing record 265 of Set 1 | ulaangom\n",
      "Processing record 266 of Set 1 | umred\n",
      "Processing record 267 of Set 1 | faya\n",
      "Processing record 268 of Set 1 | tartagal\n",
      "No Record Found\n",
      "Processing record 269 of Set 1 | lamar\n",
      "Processing record 270 of Set 1 | prince rupert\n",
      "Processing record 271 of Set 1 | srivardhan\n",
      "No Record Found\n",
      "Processing record 272 of Set 1 | denpasar\n",
      "Processing record 273 of Set 1 | sao felix do xingu\n",
      "Processing record 274 of Set 1 | libourne\n",
      "No Record Found\n",
      "Processing record 275 of Set 1 | bonthe\n",
      "Processing record 276 of Set 1 | caravelas\n",
      "Processing record 277 of Set 1 | komsomolskiy\n",
      "No Record Found\n",
      "Processing record 278 of Set 1 | inirida\n",
      "Processing record 279 of Set 1 | los angeles\n",
      "Processing record 280 of Set 1 | bambous virieux\n",
      "Processing record 281 of Set 1 | porbandar\n",
      "Processing record 282 of Set 1 | ahipara\n",
      "Processing record 283 of Set 1 | sayat\n",
      "Processing record 284 of Set 1 | matay\n",
      "Processing record 285 of Set 1 | beira\n",
      "Processing record 286 of Set 1 | nuuk\n",
      "Processing record 287 of Set 1 | sault sainte marie\n",
      "Processing record 288 of Set 1 | saldanha\n",
      "Processing record 289 of Set 1 | alekseyevsk\n",
      "Processing record 290 of Set 1 | beidao\n",
      "Processing record 291 of Set 1 | viedma\n",
      "Processing record 292 of Set 1 | bilibino\n",
      "Processing record 293 of Set 1 | dahra\n",
      "Processing record 294 of Set 1 | havoysund\n",
      "No Record Found\n",
      "Processing record 295 of Set 1 | baraboo\n",
      "Processing record 296 of Set 1 | roma\n",
      "Processing record 297 of Set 1 | gazanjyk\n",
      "Processing record 298 of Set 1 | orange\n",
      "Processing record 299 of Set 1 | dalvik\n",
      "Processing record 300 of Set 1 | eyl\n",
      "No Record Found\n",
      "Processing record 301 of Set 1 | beyneu\n",
      "Processing record 302 of Set 1 | dolinsk\n",
      "Processing record 303 of Set 1 | salalah\n",
      "Processing record 304 of Set 1 | klaksvik\n",
      "Processing record 305 of Set 1 | asfi\n",
      "No Record Found\n",
      "Processing record 306 of Set 1 | tutoia\n",
      "Processing record 307 of Set 1 | mehamn\n",
      "Processing record 308 of Set 1 | carnarvon\n",
      "Processing record 309 of Set 1 | yerbogachen\n",
      "Processing record 310 of Set 1 | vanimo\n",
      "Processing record 311 of Set 1 | were ilu\n",
      "Processing record 312 of Set 1 | khrebtovaya\n",
      "Processing record 313 of Set 1 | constitucion\n",
      "Processing record 314 of Set 1 | kargasok\n",
      "Processing record 315 of Set 1 | flinders\n",
      "Processing record 316 of Set 1 | komatipoort\n",
      "Processing record 317 of Set 1 | cayenne\n",
      "Processing record 318 of Set 1 | launceston\n",
      "Processing record 319 of Set 1 | nefteyugansk\n",
      "Processing record 320 of Set 1 | bandarbeyla\n",
      "Processing record 321 of Set 1 | novominskaya\n",
      "Processing record 322 of Set 1 | pirgos\n",
      "Processing record 323 of Set 1 | petropavlovsk-kamchatskiy\n",
      "Processing record 324 of Set 1 | thunder bay\n",
      "Processing record 325 of Set 1 | yulara\n",
      "Processing record 326 of Set 1 | piacabucu\n",
      "Processing record 327 of Set 1 | topolobampo\n",
      "Processing record 328 of Set 1 | shingu\n",
      "Processing record 329 of Set 1 | honningsvag\n",
      "Processing record 330 of Set 1 | itarema\n",
      "Processing record 331 of Set 1 | shanghai\n",
      "Processing record 332 of Set 1 | kroya\n",
      "No Record Found\n",
      "Processing record 333 of Set 1 | khandyga\n",
      "Processing record 334 of Set 1 | trelew\n",
      "Processing record 335 of Set 1 | juneau\n",
      "Processing record 336 of Set 1 | san patricio\n",
      "Processing record 337 of Set 1 | eruwa\n",
      "Processing record 338 of Set 1 | rajapur\n",
      "No Record Found\n",
      "Processing record 339 of Set 1 | khash\n",
      "Processing record 340 of Set 1 | dandong\n",
      "Processing record 341 of Set 1 | yabrud\n",
      "Processing record 342 of Set 1 | oranjestad\n",
      "Processing record 343 of Set 1 | san policarpo\n",
      "Processing record 344 of Set 1 | leh\n",
      "Processing record 345 of Set 1 | sulangan\n",
      "Processing record 346 of Set 1 | kikwit\n",
      "Processing record 347 of Set 1 | manta\n",
      "Processing record 348 of Set 1 | la cruz\n",
      "Processing record 349 of Set 1 | luena\n",
      "Processing record 350 of Set 1 | sabha\n",
      "Processing record 351 of Set 1 | westport\n",
      "Processing record 352 of Set 1 | dalby\n",
      "Processing record 353 of Set 1 | piste\n",
      "Processing record 354 of Set 1 | yeppoon\n",
      "Processing record 355 of Set 1 | pierre\n",
      "Processing record 356 of Set 1 | bambanglipuro\n",
      "No Record Found\n",
      "Processing record 357 of Set 1 | naze\n",
      "Processing record 358 of Set 1 | vilyuysk\n",
      "Processing record 359 of Set 1 | deputatskiy\n",
      "Processing record 360 of Set 1 | port lincoln\n",
      "Processing record 361 of Set 1 | ludza\n",
      "Processing record 362 of Set 1 | rupert\n",
      "Processing record 363 of Set 1 | maarianhamina\n",
      "Processing record 364 of Set 1 | ust-kuyga\n",
      "Processing record 365 of Set 1 | nishihara\n",
      "Processing record 366 of Set 1 | mantua\n",
      "Processing record 367 of Set 1 | cortez\n",
      "Processing record 368 of Set 1 | isangel\n",
      "Processing record 369 of Set 1 | ardakan\n",
      "Processing record 370 of Set 1 | techiman\n",
      "Processing record 371 of Set 1 | balabac\n",
      "Processing record 372 of Set 1 | muzhi\n",
      "Processing record 373 of Set 1 | berdigestyakh\n",
      "Processing record 374 of Set 1 | mudgee\n",
      "Processing record 375 of Set 1 | collie\n",
      "Processing record 376 of Set 1 | pitimbu\n"
     ]
    },
    {
     "name": "stdout",
     "output_type": "stream",
     "text": [
      "Processing record 377 of Set 1 | lagoa formosa\n",
      "Processing record 378 of Set 1 | buala\n",
      "No Record Found\n",
      "Processing record 379 of Set 1 | bahia blanca\n",
      "Processing record 380 of Set 1 | kudahuvadhoo\n",
      "Processing record 381 of Set 1 | ponta do sol\n",
      "Processing record 382 of Set 1 | olafsvik\n",
      "Processing record 383 of Set 1 | namtsy\n",
      "Processing record 384 of Set 1 | karpathos\n",
      "Processing record 385 of Set 1 | port hawkesbury\n",
      "Processing record 386 of Set 1 | katima mulilo\n",
      "Processing record 387 of Set 1 | katangli\n",
      "No Record Found\n",
      "Processing record 388 of Set 1 | tabou\n",
      "Processing record 389 of Set 1 | meridian\n",
      "Processing record 390 of Set 1 | agadir\n",
      "No Record Found\n",
      "Processing record 391 of Set 1 | miranda\n",
      "Processing record 392 of Set 1 | flin flon\n",
      "No Record Found\n",
      "Processing record 393 of Set 1 | qaqortoq\n",
      "Processing record 394 of Set 1 | ewa beach\n",
      "Processing record 395 of Set 1 | nelson bay\n",
      "Processing record 396 of Set 1 | luderitz\n",
      "Processing record 397 of Set 1 | santa isabel do rio negro\n",
      "Processing record 398 of Set 1 | leningradskiy\n",
      "Processing record 399 of Set 1 | samarai\n",
      "Processing record 400 of Set 1 | grand gaube\n",
      "Processing record 401 of Set 1 | batagay\n",
      "Processing record 402 of Set 1 | tortoli\n",
      "Processing record 403 of Set 1 | gravdal\n",
      "Processing record 404 of Set 1 | vorotynsk\n",
      "Processing record 405 of Set 1 | tefe\n",
      "Processing record 406 of Set 1 | fortuna\n",
      "Processing record 407 of Set 1 | malpe\n",
      "Processing record 408 of Set 1 | hanna\n",
      "Processing record 409 of Set 1 | les cayes\n",
      "Processing record 410 of Set 1 | shiyan\n",
      "Processing record 411 of Set 1 | rudnya\n",
      "Processing record 412 of Set 1 | berlin\n",
      "Processing record 413 of Set 1 | nouna\n",
      "No Record Found\n",
      "Processing record 414 of Set 1 | ambulu\n",
      "Processing record 415 of Set 1 | hofn\n",
      "Processing record 416 of Set 1 | clovis\n",
      "Processing record 417 of Set 1 | chandbali\n",
      "Processing record 418 of Set 1 | touros\n",
      "Processing record 419 of Set 1 | ust-tsilma\n",
      "Processing record 420 of Set 1 | kondopoga\n",
      "Processing record 421 of Set 1 | matara\n",
      "Processing record 422 of Set 1 | severo-kurilsk\n",
      "Processing record 423 of Set 1 | vila franca do campo\n",
      "Processing record 424 of Set 1 | ortakoy\n",
      "No Record Found\n",
      "Processing record 425 of Set 1 | russell\n",
      "Processing record 426 of Set 1 | fontem\n",
      "Processing record 427 of Set 1 | negombo\n",
      "Processing record 428 of Set 1 | khani\n",
      "Processing record 429 of Set 1 | shatalovo\n",
      "No Record Found\n",
      "Processing record 430 of Set 1 | omsukchan\n",
      "Processing record 431 of Set 1 | marawi\n",
      "Processing record 432 of Set 1 | sorland\n",
      "Processing record 433 of Set 1 | jijiga\n",
      "Processing record 434 of Set 1 | lamu\n",
      "Processing record 435 of Set 1 | shangqiu\n",
      "Processing record 436 of Set 1 | kavaratti\n",
      "Processing record 437 of Set 1 | sola\n",
      "Processing record 438 of Set 1 | kabo\n",
      "No Record Found\n",
      "Processing record 439 of Set 1 | teguise\n",
      "Processing record 440 of Set 1 | nantucket\n",
      "Processing record 441 of Set 1 | linguere\n",
      "No Record Found\n",
      "Processing record 442 of Set 1 | la roda\n",
      "Processing record 443 of Set 1 | egvekinot\n",
      "Processing record 444 of Set 1 | telica\n",
      "Processing record 445 of Set 1 | remanso\n",
      "Processing record 446 of Set 1 | ulladulla\n",
      "Processing record 447 of Set 1 | praia da vitoria\n",
      "Processing record 448 of Set 1 | lincoln\n",
      "Processing record 449 of Set 1 | lashio\n",
      "Processing record 450 of Set 1 | pindiga\n",
      "Processing record 451 of Set 1 | verkh-usugli\n",
      "Processing record 452 of Set 1 | xining\n",
      "Processing record 453 of Set 1 | novikovo\n",
      "Processing record 454 of Set 1 | sherbakul\n",
      "Processing record 455 of Set 1 | namibe\n",
      "Processing record 456 of Set 1 | westerland\n",
      "Processing record 457 of Set 1 | dzilam gonzalez\n",
      "Processing record 458 of Set 1 | elat\n",
      "Processing record 459 of Set 1 | ixtapa\n",
      "Processing record 460 of Set 1 | wellington\n",
      "Processing record 461 of Set 1 | muravlenko\n",
      "Processing record 462 of Set 1 | marshfield\n",
      "Processing record 463 of Set 1 | vao\n",
      "Processing record 464 of Set 1 | west wendover\n",
      "Processing record 465 of Set 1 | zhengjiatun\n",
      "Processing record 466 of Set 1 | pervomayskoye\n",
      "Processing record 467 of Set 1 | flower mound\n",
      "Processing record 468 of Set 1 | shizilu\n",
      "Processing record 469 of Set 1 | zhangjiakou\n",
      "Processing record 470 of Set 1 | tromso\n",
      "Processing record 471 of Set 1 | dunmore town\n",
      "Processing record 472 of Set 1 | caohai\n",
      "Processing record 473 of Set 1 | siocon\n",
      "Processing record 474 of Set 1 | sheltozero\n",
      "Processing record 475 of Set 1 | thompson\n",
      "Processing record 476 of Set 1 | ponta delgada\n",
      "Processing record 477 of Set 1 | brae\n",
      "Processing record 478 of Set 1 | petropavl\n",
      "Processing record 479 of Set 1 | wegrow\n",
      "Processing record 480 of Set 1 | algiers\n",
      "Processing record 481 of Set 1 | deming\n",
      "Processing record 482 of Set 1 | amapa\n",
      "Processing record 483 of Set 1 | morris\n",
      "Processing record 484 of Set 1 | khairpur nathan shah\n",
      "Processing record 485 of Set 1 | kismayo\n",
      "Processing record 486 of Set 1 | pimenta bueno\n",
      "Processing record 487 of Set 1 | tukrah\n",
      "Processing record 488 of Set 1 | temryuk\n",
      "Processing record 489 of Set 1 | banga\n",
      "Processing record 490 of Set 1 | vestmannaeyjar\n",
      "Processing record 491 of Set 1 | nola\n",
      "Processing record 492 of Set 1 | itoman\n",
      "Processing record 493 of Set 1 | murindo\n",
      "Processing record 494 of Set 1 | belozerskoye\n",
      "Processing record 495 of Set 1 | pontian kecil\n",
      "Processing record 496 of Set 1 | almaty\n",
      "Processing record 497 of Set 1 | douglas\n",
      "Processing record 498 of Set 1 | tabuk\n",
      "Processing record 499 of Set 1 | spearfish\n",
      "Processing record 500 of Set 1 | stornoway\n",
      "Processing record 501 of Set 1 | grafton\n",
      "Processing record 502 of Set 1 | nata\n",
      "Processing record 503 of Set 1 | tynda\n",
      "Processing record 504 of Set 1 | tonantins\n",
      "Processing record 505 of Set 1 | puerto escondido\n",
      "Processing record 506 of Set 1 | tecoanapa\n",
      "Processing record 507 of Set 1 | athabasca\n",
      "Processing record 508 of Set 1 | springdale\n",
      "Processing record 509 of Set 1 | rio gallegos\n",
      "Processing record 510 of Set 1 | novoselytsya\n",
      "Processing record 511 of Set 1 | magistralnyy\n",
      "Processing record 512 of Set 1 | henderson\n",
      "Processing record 513 of Set 1 | kalmunai\n",
      "Processing record 514 of Set 1 | guben\n",
      "No Record Found\n",
      "Processing record 515 of Set 1 | boca do acre\n",
      "Processing record 516 of Set 1 | souillac\n",
      "Processing record 517 of Set 1 | astoria\n",
      "Processing record 518 of Set 1 | plettenberg bay\n",
      "Processing record 519 of Set 1 | rabo de peixe\n",
      "Processing record 520 of Set 1 | yumbel\n",
      "No Record Found\n",
      "Processing record 521 of Set 1 | muqui\n",
      "Processing record 522 of Set 1 | saint-georges\n",
      "Processing record 523 of Set 1 | vangaindrano\n",
      "Processing record 524 of Set 1 | carutapera\n",
      "Processing record 525 of Set 1 | bogande\n",
      "Processing record 526 of Set 1 | moa\n",
      "Processing record 527 of Set 1 | torfyanoy\n",
      "Processing record 528 of Set 1 | mocuba\n",
      "Processing record 529 of Set 1 | tarbert\n",
      "Processing record 530 of Set 1 | aykhal\n",
      "Processing record 531 of Set 1 | salta\n",
      "Processing record 532 of Set 1 | kavieng\n",
      "Processing record 533 of Set 1 | sabang\n",
      "Processing record 534 of Set 1 | necochea\n",
      "Processing record 535 of Set 1 | muriwai beach\n",
      "Processing record 536 of Set 1 | praya\n",
      "No Record Found\n",
      "No Record Found\n",
      "Processing record 537 of Set 1 | asau\n",
      "Processing record 538 of Set 1 | chuy\n",
      "Processing record 539 of Set 1 | richards bay\n",
      "Processing record 540 of Set 1 | chifeng\n",
      "Processing record 541 of Set 1 | half moon bay\n",
      "Processing record 542 of Set 1 | puerto maldonado\n",
      "Processing record 543 of Set 1 | praia\n",
      "Processing record 544 of Set 1 | san andres\n",
      "Processing record 545 of Set 1 | tigre\n",
      "Processing record 546 of Set 1 | meulaboh\n",
      "Processing record 547 of Set 1 | kokoda\n",
      "Processing record 548 of Set 1 | nemuro\n",
      "Processing record 549 of Set 1 | chitradurga\n",
      "Processing record 550 of Set 1 | llanes\n",
      "Processing record 551 of Set 1 | zaqatala\n",
      "Processing record 552 of Set 1 | beloha\n",
      "Processing record 553 of Set 1 | nurota\n",
      "Processing record 554 of Set 1 | kaeo\n",
      "Processing record 555 of Set 1 | sur\n",
      "Processing record 556 of Set 1 | harper\n",
      "Processing record 557 of Set 1 | lasa\n",
      "Processing record 558 of Set 1 | lhokseumawe\n",
      "Processing record 559 of Set 1 | hirara\n",
      "Processing record 560 of Set 1 | mathathane\n",
      "Processing record 561 of Set 1 | ilhabela\n",
      "Processing record 562 of Set 1 | zyryanka\n",
      "Processing record 563 of Set 1 | niort\n",
      "Processing record 564 of Set 1 | sinop\n",
      "Processing record 565 of Set 1 | atar\n",
      "Processing record 566 of Set 1 | lubao\n",
      "No Record Found\n"
     ]
    },
    {
     "name": "stdout",
     "output_type": "stream",
     "text": [
      "Processing record 567 of Set 1 | kropachevo\n",
      "---------------\n",
      "Data Retrieval Complete\n",
      "---------------\n"
     ]
    }
   ],
   "source": [
    "#Collect the data on each city in the dataset and create empty lists \n",
    "city_name = []\n",
    "lat = []\n",
    "lng = []\n",
    "max_temp = []\n",
    "humidity = []\n",
    "cloudiness = []\n",
    "wind_speed = []\n",
    "country = []\n",
    "date = []\n",
    "count = 0 \n",
    "\n",
    "#Create a for loop to go through data and fill the lists\n",
    "\n",
    "for city in cities:\n",
    "    response = requests.get(target_url + \"&q=\" + city + \"&units=Imperial\")\n",
    "    weather_json = response.json()\n",
    "    try:\n",
    "        city_name.append(weather_json[\"city\"][\"name\"])\n",
    "        lat.append(weather_json[\"city\"][\"coord\"][\"lat\"])\n",
    "        lng.append(weather_json[\"city\"][\"coord\"][\"lon\"])\n",
    "        max_temp.append(weather_json[\"list\"][0][\"main\"][\"temp_max\"])\n",
    "        humidity.append(weather_json[\"list\"][0][\"main\"][\"humidity\"])\n",
    "        cloudiness.append(weather_json[\"list\"][0][\"clouds\"][\"all\"])\n",
    "        wind_speed.append(weather_json[\"list\"][0][\"wind\"][\"speed\"])\n",
    "        country.append(weather_json[\"city\"][\"country\"])\n",
    "        date.append(weather_json[\"list\"][0][\"dt\"])\n",
    "        count = count + 1\n",
    "        print(f\"Processing record {count} of Set 1 | {city}\")\n",
    "    except:\n",
    "        print(\"No Record Found\") \n",
    "        pass\n",
    "        \n",
    "print(\"---------------\")\n",
    "print(\"Data Retrieval Complete\")\n",
    "print(\"---------------\")\n"
   ]
  },
  {
   "cell_type": "code",
   "execution_count": 5,
   "metadata": {},
   "outputs": [
    {
     "data": {
      "text/html": [
       "<div>\n",
       "<style scoped>\n",
       "    .dataframe tbody tr th:only-of-type {\n",
       "        vertical-align: middle;\n",
       "    }\n",
       "\n",
       "    .dataframe tbody tr th {\n",
       "        vertical-align: top;\n",
       "    }\n",
       "\n",
       "    .dataframe thead th {\n",
       "        text-align: right;\n",
       "    }\n",
       "</style>\n",
       "<table border=\"1\" class=\"dataframe\">\n",
       "  <thead>\n",
       "    <tr style=\"text-align: right;\">\n",
       "      <th></th>\n",
       "      <th>City</th>\n",
       "      <th>Lat</th>\n",
       "      <th>Lng</th>\n",
       "      <th>Max Temp</th>\n",
       "      <th>Humidity</th>\n",
       "      <th>Cloudiness</th>\n",
       "      <th>Wind Speed</th>\n",
       "      <th>Country</th>\n",
       "      <th>Date</th>\n",
       "    </tr>\n",
       "  </thead>\n",
       "  <tbody>\n",
       "    <tr>\n",
       "      <th>0</th>\n",
       "      <td>Tasiilaq</td>\n",
       "      <td>65.6145</td>\n",
       "      <td>-37.6368</td>\n",
       "      <td>34.02</td>\n",
       "      <td>95</td>\n",
       "      <td>100</td>\n",
       "      <td>31.09</td>\n",
       "      <td>GL</td>\n",
       "      <td>1600225200</td>\n",
       "    </tr>\n",
       "    <tr>\n",
       "      <th>1</th>\n",
       "      <td>Yokadouma</td>\n",
       "      <td>3.5167</td>\n",
       "      <td>15.0500</td>\n",
       "      <td>69.49</td>\n",
       "      <td>96</td>\n",
       "      <td>74</td>\n",
       "      <td>2.57</td>\n",
       "      <td>CM</td>\n",
       "      <td>1600225200</td>\n",
       "    </tr>\n",
       "    <tr>\n",
       "      <th>2</th>\n",
       "      <td>Albany</td>\n",
       "      <td>42.6001</td>\n",
       "      <td>-73.9662</td>\n",
       "      <td>49.59</td>\n",
       "      <td>70</td>\n",
       "      <td>25</td>\n",
       "      <td>2.59</td>\n",
       "      <td>US</td>\n",
       "      <td>1600225200</td>\n",
       "    </tr>\n",
       "    <tr>\n",
       "      <th>3</th>\n",
       "      <td>Bluff</td>\n",
       "      <td>-46.6000</td>\n",
       "      <td>168.3333</td>\n",
       "      <td>50.74</td>\n",
       "      <td>79</td>\n",
       "      <td>100</td>\n",
       "      <td>33.04</td>\n",
       "      <td>NZ</td>\n",
       "      <td>1600225200</td>\n",
       "    </tr>\n",
       "    <tr>\n",
       "      <th>4</th>\n",
       "      <td>Kysyl-Syr</td>\n",
       "      <td>63.8986</td>\n",
       "      <td>122.7617</td>\n",
       "      <td>54.30</td>\n",
       "      <td>76</td>\n",
       "      <td>7</td>\n",
       "      <td>4.23</td>\n",
       "      <td>RU</td>\n",
       "      <td>1600225200</td>\n",
       "    </tr>\n",
       "  </tbody>\n",
       "</table>\n",
       "</div>"
      ],
      "text/plain": [
       "        City      Lat       Lng  Max Temp  Humidity  Cloudiness  Wind Speed  \\\n",
       "0   Tasiilaq  65.6145  -37.6368     34.02        95         100       31.09   \n",
       "1  Yokadouma   3.5167   15.0500     69.49        96          74        2.57   \n",
       "2     Albany  42.6001  -73.9662     49.59        70          25        2.59   \n",
       "3      Bluff -46.6000  168.3333     50.74        79         100       33.04   \n",
       "4  Kysyl-Syr  63.8986  122.7617     54.30        76           7        4.23   \n",
       "\n",
       "  Country        Date  \n",
       "0      GL  1600225200  \n",
       "1      CM  1600225200  \n",
       "2      US  1600225200  \n",
       "3      NZ  1600225200  \n",
       "4      RU  1600225200  "
      ]
     },
     "execution_count": 5,
     "metadata": {},
     "output_type": "execute_result"
    }
   ],
   "source": [
    "weather_df = pd.DataFrame({\"City\": city_name, \"Lat\": lat, \"Lng\": lng, \"Max Temp\": max_temp,\n",
    "                           \"Humidity\": humidity, \"Cloudiness\": cloudiness, \"Wind Speed\": wind_speed, \n",
    "                           \"Country\": country, \"Date\": date})\n",
    "weather_df.head()"
   ]
  },
  {
   "cell_type": "code",
   "execution_count": 6,
   "metadata": {},
   "outputs": [
    {
     "name": "stdout",
     "output_type": "stream",
     "text": [
      "There are now 567 cities in the dataframe.\n"
     ]
    }
   ],
   "source": [
    "#Find the amount of cities again\n",
    "city_count2 = len(weather_df)\n",
    "print(f\"There are now {city_count2} cities in the dataframe.\")"
   ]
  },
  {
   "cell_type": "code",
   "execution_count": 7,
   "metadata": {},
   "outputs": [],
   "source": [
    "#Send data to output data folder\n",
    "weather_df.to_csv(r'output_data\\my_weather_df.csv')"
   ]
  },
  {
   "cell_type": "code",
   "execution_count": 8,
   "metadata": {},
   "outputs": [
    {
     "data": {
      "text/html": [
       "<div>\n",
       "<style scoped>\n",
       "    .dataframe tbody tr th:only-of-type {\n",
       "        vertical-align: middle;\n",
       "    }\n",
       "\n",
       "    .dataframe tbody tr th {\n",
       "        vertical-align: top;\n",
       "    }\n",
       "\n",
       "    .dataframe thead th {\n",
       "        text-align: right;\n",
       "    }\n",
       "</style>\n",
       "<table border=\"1\" class=\"dataframe\">\n",
       "  <thead>\n",
       "    <tr style=\"text-align: right;\">\n",
       "      <th></th>\n",
       "      <th>Lat</th>\n",
       "      <th>Lng</th>\n",
       "      <th>Max Temp</th>\n",
       "      <th>Humidity</th>\n",
       "      <th>Cloudiness</th>\n",
       "      <th>Wind Speed</th>\n",
       "      <th>Date</th>\n",
       "    </tr>\n",
       "  </thead>\n",
       "  <tbody>\n",
       "    <tr>\n",
       "      <th>count</th>\n",
       "      <td>567.000000</td>\n",
       "      <td>567.000000</td>\n",
       "      <td>567.000000</td>\n",
       "      <td>567.000000</td>\n",
       "      <td>567.000000</td>\n",
       "      <td>567.000000</td>\n",
       "      <td>5.670000e+02</td>\n",
       "    </tr>\n",
       "    <tr>\n",
       "      <th>mean</th>\n",
       "      <td>21.339112</td>\n",
       "      <td>13.449599</td>\n",
       "      <td>65.868342</td>\n",
       "      <td>72.146384</td>\n",
       "      <td>53.389771</td>\n",
       "      <td>7.927425</td>\n",
       "      <td>1.600225e+09</td>\n",
       "    </tr>\n",
       "    <tr>\n",
       "      <th>std</th>\n",
       "      <td>33.077556</td>\n",
       "      <td>91.137918</td>\n",
       "      <td>14.554532</td>\n",
       "      <td>18.114713</td>\n",
       "      <td>36.113995</td>\n",
       "      <td>5.650003</td>\n",
       "      <td>0.000000e+00</td>\n",
       "    </tr>\n",
       "    <tr>\n",
       "      <th>min</th>\n",
       "      <td>-54.800000</td>\n",
       "      <td>-179.166700</td>\n",
       "      <td>19.260000</td>\n",
       "      <td>13.000000</td>\n",
       "      <td>0.000000</td>\n",
       "      <td>0.250000</td>\n",
       "      <td>1.600225e+09</td>\n",
       "    </tr>\n",
       "    <tr>\n",
       "      <th>25%</th>\n",
       "      <td>-3.774050</td>\n",
       "      <td>-68.552950</td>\n",
       "      <td>53.905000</td>\n",
       "      <td>65.000000</td>\n",
       "      <td>18.500000</td>\n",
       "      <td>3.635000</td>\n",
       "      <td>1.600225e+09</td>\n",
       "    </tr>\n",
       "    <tr>\n",
       "      <th>50%</th>\n",
       "      <td>26.184200</td>\n",
       "      <td>17.691000</td>\n",
       "      <td>67.230000</td>\n",
       "      <td>77.000000</td>\n",
       "      <td>56.000000</td>\n",
       "      <td>6.670000</td>\n",
       "      <td>1.600225e+09</td>\n",
       "    </tr>\n",
       "    <tr>\n",
       "      <th>75%</th>\n",
       "      <td>47.508300</td>\n",
       "      <td>95.027350</td>\n",
       "      <td>77.890000</td>\n",
       "      <td>85.000000</td>\n",
       "      <td>87.000000</td>\n",
       "      <td>11.050000</td>\n",
       "      <td>1.600225e+09</td>\n",
       "    </tr>\n",
       "    <tr>\n",
       "      <th>max</th>\n",
       "      <td>78.218600</td>\n",
       "      <td>179.316700</td>\n",
       "      <td>99.120000</td>\n",
       "      <td>99.000000</td>\n",
       "      <td>100.000000</td>\n",
       "      <td>33.040000</td>\n",
       "      <td>1.600225e+09</td>\n",
       "    </tr>\n",
       "  </tbody>\n",
       "</table>\n",
       "</div>"
      ],
      "text/plain": [
       "              Lat         Lng    Max Temp    Humidity  Cloudiness  Wind Speed  \\\n",
       "count  567.000000  567.000000  567.000000  567.000000  567.000000  567.000000   \n",
       "mean    21.339112   13.449599   65.868342   72.146384   53.389771    7.927425   \n",
       "std     33.077556   91.137918   14.554532   18.114713   36.113995    5.650003   \n",
       "min    -54.800000 -179.166700   19.260000   13.000000    0.000000    0.250000   \n",
       "25%     -3.774050  -68.552950   53.905000   65.000000   18.500000    3.635000   \n",
       "50%     26.184200   17.691000   67.230000   77.000000   56.000000    6.670000   \n",
       "75%     47.508300   95.027350   77.890000   85.000000   87.000000   11.050000   \n",
       "max     78.218600  179.316700   99.120000   99.000000  100.000000   33.040000   \n",
       "\n",
       "               Date  \n",
       "count  5.670000e+02  \n",
       "mean   1.600225e+09  \n",
       "std    0.000000e+00  \n",
       "min    1.600225e+09  \n",
       "25%    1.600225e+09  \n",
       "50%    1.600225e+09  \n",
       "75%    1.600225e+09  \n",
       "max    1.600225e+09  "
      ]
     },
     "execution_count": 8,
     "metadata": {},
     "output_type": "execute_result"
    }
   ],
   "source": [
    "#Find all the statistical values for the dataframe \n",
    "weather_df.describe()"
   ]
  },
  {
   "cell_type": "code",
   "execution_count": null,
   "metadata": {},
   "outputs": [],
   "source": []
  },
  {
   "cell_type": "markdown",
   "metadata": {},
   "source": [
    "## Plotting the Data\n",
    "* Use proper labeling of the plots using plot titles (including date of analysis) and axes labels.\n",
    "* Save the plotted figures as .pngs."
   ]
  },
  {
   "cell_type": "markdown",
   "metadata": {},
   "source": [
    "## Latitude vs. Temperature Plot"
   ]
  },
  {
   "cell_type": "code",
   "execution_count": 26,
   "metadata": {
    "scrolled": true
   },
   "outputs": [
    {
     "data": {
      "image/png": "[encoded data removed]",
      "text/plain": [
       "<Figure size 432x288 with 1 Axes>"
      ]
     },
     "metadata": {
      "needs_background": "light"
     },
     "output_type": "display_data"
    }
   ],
   "source": [
    "#Create the scatter plot to show the coorelation between the City's Latitude vs the Max Temperature \n",
    "weather_chart = weather_df.plot(kind = \"scatter\", x = \"Lat\", y = \"Max Temp\", title = \"City Latitude vs Max Temperature\",\n",
    "                                color = \"yellow\", edgecolor = \"black\", grid = True)\n",
    "                                \n",
    "#Save the chart to the output folder\n",
    "plt.savefig(\"Lat vs. Temp Plot.png\")\n",
    "plt.show()"
   ]
  },
  {
   "cell_type": "markdown",
   "metadata": {},
   "source": [
    "## Latitude vs. Humidity Plot"
   ]
  },
  {
   "cell_type": "code",
   "execution_count": 27,
   "metadata": {},
   "outputs": [
    {
     "data": {
      "image/png": "[encoded data removed]",
      "text/plain": [
       "<Figure size 432x288 with 1 Axes>"
      ]
     },
     "metadata": {
      "needs_background": "light"
     },
     "output_type": "display_data"
    }
   ],
   "source": [
    "#Create the scatter plot to show the coorelation between the City's Latitude vs the Humidity\n",
    "weather_chart = weather_df.plot(kind = \"scatter\", x = \"Lat\", y = \"Humidity\", title = \"City Latitude vs Humidity\",\n",
    "                                color = \"yellow\", edgecolor = \"black\", grid = True)\n",
    "                                \n",
    "\n",
    "#Save the chart to the output folder\n",
    "plt.savefig(\"Lat vs. Humidity Plot.png\")\n",
    "plt.show()"
   ]
  },
  {
   "cell_type": "markdown",
   "metadata": {},
   "source": [
    "## Latitude vs. Cloudiness Plot"
   ]
  },
  {
   "cell_type": "code",
   "execution_count": 28,
   "metadata": {},
   "outputs": [
    {
     "data": {
      "image/png": "[encoded data removed]",
      "text/plain": [
       "<Figure size 432x288 with 1 Axes>"
      ]
     },
     "metadata": {
      "needs_background": "light"
     },
     "output_type": "display_data"
    }
   ],
   "source": [
    "#Create the scatter plot to show the coorelation between the City's Latitude vs the Cloudiness \n",
    "weather_chart = weather_df.plot(kind = \"scatter\", x = \"Lat\", y = \"Cloudiness\", title = \"City Latitude vs Cloudiness\",\n",
    "                                color = \"yellow\", edgecolor = \"black\", grid = True)\n",
    "                                \n",
    "\n",
    "#Save the chart to the output folder\n",
    "plt.savefig(\"Lat vs. Cloudiness Plot.png\")\n",
    "plt.show()"
   ]
  },
  {
   "cell_type": "markdown",
   "metadata": {},
   "source": [
    "## Latitude vs. Wind Speed Plot"
   ]
  },
  {
   "cell_type": "code",
   "execution_count": 29,
   "metadata": {},
   "outputs": [
    {
     "data": {
      "image/png": "[encoded data removed]",
      "text/plain": [
       "<Figure size 432x288 with 1 Axes>"
      ]
     },
     "metadata": {
      "needs_background": "light"
     },
     "output_type": "display_data"
    }
   ],
   "source": [
    "#Create the scatter plot to show the coorelation between the City's Latitude vs the Wind Speed\n",
    "weather_chart = weather_df.plot(kind = \"scatter\", x = \"Lat\", y = \"Wind Speed\", title = \"City Latitude vs Wind Speed\",\n",
    "                                color = \"yellow\", edgecolor = \"black\", grid = True)\n",
    "                                \n",
    "#Save the chart to the output folder\n",
    "plt.savefig(\"Lat vs. Wind. Speed.png\")\n",
    "plt.show()"
   ]
  },
  {
   "cell_type": "markdown",
   "metadata": {},
   "source": [
    "## Linear Regression"
   ]
  },
  {
   "cell_type": "code",
   "execution_count": 14,
   "metadata": {},
   "outputs": [
    {
     "data": {
      "text/html": [
       "<div>\n",
       "<style scoped>\n",
       "    .dataframe tbody tr th:only-of-type {\n",
       "        vertical-align: middle;\n",
       "    }\n",
       "\n",
       "    .dataframe tbody tr th {\n",
       "        vertical-align: top;\n",
       "    }\n",
       "\n",
       "    .dataframe thead th {\n",
       "        text-align: right;\n",
       "    }\n",
       "</style>\n",
       "<table border=\"1\" class=\"dataframe\">\n",
       "  <thead>\n",
       "    <tr style=\"text-align: right;\">\n",
       "      <th></th>\n",
       "      <th>City</th>\n",
       "      <th>Lat</th>\n",
       "      <th>Lng</th>\n",
       "      <th>Max Temp</th>\n",
       "      <th>Humidity</th>\n",
       "      <th>Cloudiness</th>\n",
       "      <th>Wind Speed</th>\n",
       "      <th>Country</th>\n",
       "      <th>Date</th>\n",
       "    </tr>\n",
       "  </thead>\n",
       "  <tbody>\n",
       "    <tr>\n",
       "      <th>0</th>\n",
       "      <td>Tasiilaq</td>\n",
       "      <td>65.6145</td>\n",
       "      <td>-37.6368</td>\n",
       "      <td>34.02</td>\n",
       "      <td>95</td>\n",
       "      <td>100</td>\n",
       "      <td>31.09</td>\n",
       "      <td>GL</td>\n",
       "      <td>1600225200</td>\n",
       "    </tr>\n",
       "    <tr>\n",
       "      <th>1</th>\n",
       "      <td>Yokadouma</td>\n",
       "      <td>3.5167</td>\n",
       "      <td>15.0500</td>\n",
       "      <td>69.49</td>\n",
       "      <td>96</td>\n",
       "      <td>74</td>\n",
       "      <td>2.57</td>\n",
       "      <td>CM</td>\n",
       "      <td>1600225200</td>\n",
       "    </tr>\n",
       "    <tr>\n",
       "      <th>2</th>\n",
       "      <td>Albany</td>\n",
       "      <td>42.6001</td>\n",
       "      <td>-73.9662</td>\n",
       "      <td>49.59</td>\n",
       "      <td>70</td>\n",
       "      <td>25</td>\n",
       "      <td>2.59</td>\n",
       "      <td>US</td>\n",
       "      <td>1600225200</td>\n",
       "    </tr>\n",
       "    <tr>\n",
       "      <th>4</th>\n",
       "      <td>Kysyl-Syr</td>\n",
       "      <td>63.8986</td>\n",
       "      <td>122.7617</td>\n",
       "      <td>54.30</td>\n",
       "      <td>76</td>\n",
       "      <td>7</td>\n",
       "      <td>4.23</td>\n",
       "      <td>RU</td>\n",
       "      <td>1600225200</td>\n",
       "    </tr>\n",
       "    <tr>\n",
       "      <th>5</th>\n",
       "      <td>Homer</td>\n",
       "      <td>59.6425</td>\n",
       "      <td>-151.5483</td>\n",
       "      <td>52.90</td>\n",
       "      <td>77</td>\n",
       "      <td>90</td>\n",
       "      <td>9.48</td>\n",
       "      <td>US</td>\n",
       "      <td>1600225200</td>\n",
       "    </tr>\n",
       "  </tbody>\n",
       "</table>\n",
       "</div>"
      ],
      "text/plain": [
       "        City      Lat       Lng  Max Temp  Humidity  Cloudiness  Wind Speed  \\\n",
       "0   Tasiilaq  65.6145  -37.6368     34.02        95         100       31.09   \n",
       "1  Yokadouma   3.5167   15.0500     69.49        96          74        2.57   \n",
       "2     Albany  42.6001  -73.9662     49.59        70          25        2.59   \n",
       "4  Kysyl-Syr  63.8986  122.7617     54.30        76           7        4.23   \n",
       "5      Homer  59.6425 -151.5483     52.90        77          90        9.48   \n",
       "\n",
       "  Country        Date  \n",
       "0      GL  1600225200  \n",
       "1      CM  1600225200  \n",
       "2      US  1600225200  \n",
       "4      RU  1600225200  \n",
       "5      US  1600225200  "
      ]
     },
     "execution_count": 14,
     "metadata": {},
     "output_type": "execute_result"
    }
   ],
   "source": [
    "#Now time to find the linear regression for the data looking at the Northern and Southern Hemisphere\n",
    "#Set up Northern and Southern Hemisphere variables \n",
    "\n",
    "north_hem = weather_df.loc[weather_df[\"Lat\"] >= 0,:] \n",
    "south_hem = weather_df.loc[weather_df[\"Lat\"] < 0,:] \n",
    "north_hem.head()"
   ]
  },
  {
   "cell_type": "markdown",
   "metadata": {},
   "source": [
    "####  Northern Hemisphere - Max Temp vs. Latitude Linear Regression"
   ]
  },
  {
   "cell_type": "code",
   "execution_count": 31,
   "metadata": {},
   "outputs": [
    {
     "name": "stdout",
     "output_type": "stream",
     "text": [
      "The r-squared is: 0.6825500957785372\n"
     ]
    },
    {
     "data": {
      "image/png": "[encoded data removed]",
      "text/plain": [
       "<Figure size 432x288 with 1 Axes>"
      ]
     },
     "metadata": {
      "needs_background": "light"
     },
     "output_type": "display_data"
    }
   ],
   "source": [
    "#Create a linear regression chart comparing Max Temp and Latitude for the Northern Hemisphere\n",
    "x_values = north_hem[\"Lat\"]\n",
    "y_values = north_hem[\"Max Temhttps://www.google.com/search?client=safari&channel=iphone_bm&sxsrf=ALeKk03F6DOIAw34Z-I8ehWN2DBso0cJNQ%3A1600212245739&source=hp&ei=FU1hX77uKu2xggfu0YOACQ&q=how+to+group+military+time+in+python&oq=how+to+group+military+time+in+python&gs_lcp=CgZwc3ktYWIQAzoECCMQJzoFCAAQkQI6BQgAELEDOggIABCxAxCDAToECAAQQzoCCAA6BggAEBYQHjoICAAQCBANEB46CAghEBYQHRAeUJcEWKKEAWC0hgFoBXAAeACAAYABiAHcGZIBBDM0LjWYAQCgAQGqAQdnd3Mtd2l6&sclient=psy-ab&ved=0ahUKEwj-zOGTp-zrAhXtmOAKHe7oAJAQ4dUDCAw&uact=5p\"]\n",
    "(slope, intercept, rvalue, pvalue, stderr) = linregress(x_values, y_values)\n",
    "regress_values = x_values * slope + intercept\n",
    "line_eq = \"y = \" + str(round(slope,2)) + \"x + \" + str(round(intercept,2))\n",
    "plt.scatter(x_values,y_values, color = \"yellow\", edgecolor = \"black\")\n",
    "plt.plot(x_values,regress_values,\"r-\")\n",
    "plt.annotate(line_eq,(10,30),fontsize=15,color=\"red\")\n",
    "plt.xlabel(\"Latitude\")\n",
    "plt.ylabel(\"Max Temperture\")\n",
    "print(f\"The r-squared is: {rvalue**2}\")\n",
    "#Save the chart to the output folder\n",
    "plt.savefig(\"Max vs. Lat Linear Regression.png\")\n",
    "plt.show()"
   ]
  },
  {
   "cell_type": "markdown",
   "metadata": {},
   "source": [
    "####  Southern Hemisphere - Max Temp vs. Latitude Linear Regression"
   ]
  },
  {
   "cell_type": "code",
   "execution_count": 32,
   "metadata": {},
   "outputs": [
    {
     "name": "stdout",
     "output_type": "stream",
     "text": [
      "The r-squared is: 0.6321808182277926\n"
     ]
    },
    {
     "data": {
      "image/png": "[encoded data removed]",
      "text/plain": [
       "<Figure size 432x288 with 1 Axes>"
      ]
     },
     "metadata": {
      "needs_background": "light"
     },
     "output_type": "display_data"
    }
   ],
   "source": [
    "#Create a linear regression chart comparing Max Temp and Latitude for the Southern Hemisphere\n",
    "x_values = south_hem[\"Lat\"]\n",
    "y_values = south_hem[\"Max Temp\"]\n",
    "(slope, intercept, rvalue, pvalue, stderr) = linregress(x_values, y_values)\n",
    "regress_values = x_values * slope + intercept\n",
    "line_eq = \"y = \" + str(round(slope,2)) + \"x + \" + str(round(intercept,2))\n",
    "plt.scatter(x_values,y_values, color = \"yellow\", edgecolor = \"black\")\n",
    "plt.plot(x_values,regress_values,\"r-\")\n",
    "plt.annotate(line_eq,(-50,90),fontsize=15,color=\"red\")\n",
    "plt.xlabel(\"Latitude\")\n",
    "plt.ylabel(\"Max Temperture\")\n",
    "print(f\"The r-squared is: {rvalue**2}\")\n",
    "#Save the chart to the output folder\n",
    "plt.savefig(\"Max Temp vs. Latitude Linear Regression.png\")\n",
    "plt.show()"
   ]
  },
  {
   "cell_type": "markdown",
   "metadata": {},
   "source": [
    "####  Northern Hemisphere - Humidity (%) vs. Latitude Linear Regression"
   ]
  },
  {
   "cell_type": "code",
   "execution_count": 34,
   "metadata": {},
   "outputs": [
    {
     "name": "stdout",
     "output_type": "stream",
     "text": [
      "The r-squared is: 0.0007837380744666628\n"
     ]
    },
    {
     "data": {
      "image/png": "[encoded data removed]",
      "text/plain": [
       "<Figure size 432x288 with 1 Axes>"
      ]
     },
     "metadata": {
      "needs_background": "light"
     },
     "output_type": "display_data"
    }
   ],
   "source": [
    "#Create a linear regression chart comparing Humidity(%) and Latitude for the Northern Hemisphere\n",
    "x_values = north_hem[\"Lat\"]\n",
    "y_values = north_hem[\"Humidity\"]\n",
    "(slope, intercept, rvalue, pvalue, stderr) = linregress(x_values, y_values)\n",
    "regress_values = x_values * slope + intercept\n",
    "line_eq = \"y = \" + str(round(slope,2)) + \"x + \" + str(round(intercept,2))\n",
    "plt.scatter(x_values,y_values, color = \"yellow\", edgecolor = \"black\")\n",
    "plt.plot(x_values,regress_values,\"r-\")\n",
    "plt.annotate(line_eq,(45,10),fontsize=15,color=\"red\")\n",
    "plt.xlabel(\"Latitude\")\n",
    "plt.ylabel(\"Humidity\")\n",
    "print(f\"The r-squared is: {rvalue**2}\")\n",
    "#Save the chart to the output folder\n",
    "plt.savefig(\"Humidity vs. Latitude Linear Regression.png\")\n",
    "plt.show()"
   ]
  },
  {
   "cell_type": "markdown",
   "metadata": {},
   "source": [
    "####  Southern Hemisphere - Humidity (%) vs. Latitude Linear Regression"
   ]
  },
  {
   "cell_type": "code",
   "execution_count": 35,
   "metadata": {},
   "outputs": [
    {
     "name": "stdout",
     "output_type": "stream",
     "text": [
      "The r-squared is: 0.0002156865816000104\n"
     ]
    },
    {
     "data": {
      "image/png": "[encoded data removed]",
      "text/plain": [
       "<Figure size 432x288 with 1 Axes>"
      ]
     },
     "metadata": {
      "needs_background": "light"
     },
     "output_type": "display_data"
    }
   ],
   "source": [
    "#Create a linear regression chart comparing Humidity(%) and Latitude for the Southern Hemisphere\n",
    "x_values = south_hem[\"Lat\"]\n",
    "y_values = south_hem[\"Humidity\"]\n",
    "(slope, intercept, rvalue, pvalue, stderr) = linregress(x_values, y_values)\n",
    "regress_values = x_values * slope + intercept\n",
    "line_eq = \"y = \" + str(round(slope,2)) + \"x + \" + str(round(intercept,2))\n",
    "plt.scatter(x_values,y_values, color = \"yellow\", edgecolor = \"black\")\n",
    "plt.plot(x_values,regress_values,\"r-\")\n",
    "plt.annotate(line_eq,(-55,20),fontsize=15,color=\"red\")\n",
    "plt.xlabel(\"Latitude\")\n",
    "plt.ylabel(\"Humidity\")\n",
    "print(f\"The r-squared is: {rvalue**2}\")\n",
    "#Save the chart to the output folder\n",
    "plt.savefig(\"Southern Humidity vs. Latitude Linear Regression.png\")\n",
    "plt.show()"
   ]
  },
  {
   "cell_type": "markdown",
   "metadata": {},
   "source": [
    "####  Northern Hemisphere - Cloudiness (%) vs. Latitude Linear Regression"
   ]
  },
  {
   "cell_type": "code",
   "execution_count": 45,
   "metadata": {},
   "outputs": [
    {
     "name": "stdout",
     "output_type": "stream",
     "text": [
      "The r-squared is: -0.014686271875462826\n"
     ]
    },
    {
     "data": {
      "image/png": "[encoded data removed]",
      "text/plain": [
       "<Figure size 432x288 with 1 Axes>"
      ]
     },
     "metadata": {
      "needs_background": "light"
     },
     "output_type": "display_data"
    }
   ],
   "source": [
    "(slope, intercept, rvalue, pvalue, stderr) = linregress(x_values, y_values)\n",
    "regress_values = x_values * slope + intercept\n",
    "line_eq = \"y = \" + str(round(slope,2)) + \"x + \" + str(round(intercept,2))\n",
    "plt.scatter(x_values, y_values)\n",
    "plt.plot(x_values,regress_values,\"r-\")\n",
    "plt.annotate(line_eq,(45,55),fontsize=15,color=\"yellow\")\n",
    "plt.title(\"Northern Latitude Cities vs. Cloudiness\")\n",
    "plt.xlabel(\"Latitude\")\n",
    "plt.ylabel(\"Cloudiness (%)\")\n",
    "print(f\"The r-squared is: {rvalue}\")\n",
    "\n",
    "#Save the chart to the output folder\n",
    "plt.savefig(\"Northern Cloudiness vs. Lattitude Linear Regression.png\")\n",
    "plt.show()"
   ]
  },
  {
   "cell_type": "markdown",
   "metadata": {},
   "source": [
    "####  Southern Hemisphere - Cloudiness (%) vs. Latitude Linear Regression"
   ]
  },
  {
   "cell_type": "code",
   "execution_count": 40,
   "metadata": {},
   "outputs": [
    {
     "name": "stdout",
     "output_type": "stream",
     "text": [
      "The r-squared is: -0.014686271875462826\n"
     ]
    },
    {
     "data": {
      "image/png": "[encoded data removed]",
      "text/plain": [
       "<Figure size 432x288 with 1 Axes>"
      ]
     },
     "metadata": {
      "needs_background": "light"
     },
     "output_type": "display_data"
    }
   ],
   "source": [
    "(slope, intercept, rvalue, pvalue, stderr) = linregress(x_values, y_values)\n",
    "regress_values = x_values * slope + intercept\n",
    "line_eq = \"y = \" + str(round(slope,2)) + \"x + \" + str(round(intercept,2))\n",
    "plt.scatter(x_values, y_values)\n",
    "plt.plot(x_values,regress_values,\"r-\")\n",
    "plt.annotate(line_eq,(-45,30),fontsize=15,color=\"red\")\n",
    "plt.title(\"Southern Latitude Cities vs. Cloudiness\")\n",
    "plt.xlabel(\"Latitude\")\n",
    "plt.ylabel(\"Cloudiness (%)\")\n",
    "print(f\"The r-squared is: {rvalue}\")\n",
    "\n",
    "\n",
    "#Save the chart to the output folder\n",
    "plt.savefig(\"Cloudiness vs. Latitude Plot.png\")\n",
    "plt.show()"
   ]
  },
  {
   "cell_type": "markdown",
   "metadata": {},
   "source": [
    "####  Northern Hemisphere - Wind Speed (mph) vs. Latitude Linear Regression"
   ]
  },
  {
   "cell_type": "code",
   "execution_count": 41,
   "metadata": {},
   "outputs": [
    {
     "name": "stdout",
     "output_type": "stream",
     "text": [
      "The r-squared is: -0.014686271875462826\n"
     ]
    },
    {
     "data": {
      "image/png": "[encoded data removed]",
      "text/plain": [
       "<Figure size 432x288 with 1 Axes>"
      ]
     },
     "metadata": {
      "needs_background": "light"
     },
     "output_type": "display_data"
    }
   ],
   "source": [
    "(slope, intercept, rvalue, pvalue, stderr) = linregress(x_values, y_values)\n",
    "regress_values = x_values * slope + intercept\n",
    "line_eq = \"y = \" + str(round(slope,2)) + \"x + \" + str(round(intercept,2))\n",
    "plt.scatter(x_values, y_values)\n",
    "plt.plot(x_values,regress_values,\"r-\")\n",
    "plt.annotate(line_eq,(30,25),fontsize=15,color=\"red\")\n",
    "plt.title(\"Northern Latitude Cities vs. Wind Speed\")\n",
    "plt.xlabel(\"Latitude\")\n",
    "plt.ylabel(\"Wind Speed (mph)\")\n",
    "print(f\"The r-squared is: {rvalue}\")\n",
    "\n",
    "#Save the chart to the output folder\n",
    "plt.savefig(\"Wind speed vs. Latitude Linear Regression.png\")\n",
    "plt.show()"
   ]
  },
  {
   "cell_type": "markdown",
   "metadata": {},
   "source": [
    "####  Southern Hemisphere - Wind Speed (mph) vs. Latitude Linear Regression"
   ]
  },
  {
   "cell_type": "code",
   "execution_count": 43,
   "metadata": {},
   "outputs": [
    {
     "name": "stdout",
     "output_type": "stream",
     "text": [
      "The r-squared is: -0.014686271875462826\n"
     ]
    },
    {
     "data": {
      "image/png": "[encoded data removed]",
      "text/plain": [
       "<Figure size 432x288 with 1 Axes>"
      ]
     },
     "metadata": {
      "needs_background": "light"
     },
     "output_type": "display_data"
    }
   ],
   "source": [
    "(slope, intercept, rvalue, pvalue, stderr) = linregress(x_values, y_values)\n",
    "regress_values = x_values * slope + intercept\n",
    "line_eq = \"y = \" + str(round(slope,2)) + \"x + \" + str(round(intercept,2))\n",
    "plt.scatter(x_values, y_values)\n",
    "plt.plot(x_values,regress_values,\"r-\")\n",
    "plt.annotate(line_eq,(30,25),fontsize=15,color=\"red\")\n",
    "plt.title(\"Southern Latitude Cities vs. Wind Speed\")\n",
    "plt.xlabel(\"Latitude\")\n",
    "plt.ylabel(\"Wind Speed (mph)\")\n",
    "print(f\"The r-squared is: {rvalue}\")\n",
    "\n",
    "#Save the chart to the output folder\n",
    "plt.savefig(\"Wind Spead Southern vs. Latitude Linear Regression.png\")\n",
    "plt.show()"
   ]
  },
  {
   "cell_type": "code",
   "execution_count": null,
   "metadata": {},
   "outputs": [],
   "source": []
  }
 ],
 "metadata": {
  "anaconda-cloud": {},
  "kernel_info": {
   "name": "python3"
  },
  "kernelspec": {
   "display_name": "Python 3",
   "language": "python",
   "name": "python3"
  },
  "language_info": {
   "codemirror_mode": {
    "name": "ipython",
    "version": 3
   },
   "file_extension": ".py",
   "mimetype": "text/x-python",
   "name": "python",
   "nbconvert_exporter": "python",
   "pygments_lexer": "ipython3",
   "version": "3.8.3"
  },
  "latex_envs": {
   "LaTeX_envs_menu_present": true,
   "autoclose": false,
   "autocomplete": true,
   "bibliofile": "biblio.bib",
   "cite_by": "apalike",
   "current_citInitial": 1,
   "eqLabelWithNumbers": true,
   "eqNumInitial": 1,
   "hotkeys": {
    "equation": "Ctrl-E",
    "itemize": "Ctrl-I"
   },
   "labels_anchors": false,
   "latex_user_defs": false,
   "report_style_numbering": false,
   "user_envs_cfg": false
  },
  "nteract": {
   "version": "0.12.3"
  }
 },
 "nbformat": 4,
 "nbformat_minor": 2
}
